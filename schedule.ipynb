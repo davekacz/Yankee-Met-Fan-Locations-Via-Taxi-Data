{
 "metadata": {
  "language_info": {
   "codemirror_mode": {
    "name": "ipython",
    "version": 3
   },
   "file_extension": ".py",
   "mimetype": "text/x-python",
   "name": "python",
   "nbconvert_exporter": "python",
   "pygments_lexer": "ipython3",
   "version": "3.7.7"
  },
  "orig_nbformat": 4,
  "kernelspec": {
   "name": "python3",
   "display_name": "Python 3.7.7 64-bit ('ISYE6501': conda)"
  },
  "interpreter": {
   "hash": "b2e62736b6f5842b2875a283fc0c8b118c4e724b66a11220d55555d5078ee572"
  }
 },
 "nbformat": 4,
 "nbformat_minor": 2,
 "cells": [
  {
   "cell_type": "code",
   "execution_count": 2,
   "metadata": {},
   "outputs": [],
   "source": [
    "import pandas as pd \n",
    "import numpy as np "
   ]
  },
  {
   "cell_type": "code",
   "execution_count": 3,
   "metadata": {},
   "outputs": [
    {
     "output_type": "execute_result",
     "data": {
      "text/plain": [
       "'Field(s)      Meaning\\n   1          Date in the form \"yyyymmdd\"\\n   2          Number of game:\\n                     \"0\" - a single game\\n                     \"1\" - the first game of a double header including separate admission doubleheaders\\n                     \"2\" - the second game of a double header including separate admission doubleheaders\\n   3          Day of week(\"Sun\",\"Mon\",\"Tue\",\"Wed\",\"Thu\",\"Fri\",\"Sat\")\\n   4-5        Visiting team and league\\n   6          Season game number for visiting team\\n   7-8        Home team and league\\n   9          Season game number for home team\\n   10         Day (D), Night (N), Afternoon (A), Evening (E for twinight)\\n   11         Postponement/cancellation indicator (more detail below)\\n   12         Date of makeup if played in the form \"yyyymmdd\" (more detail below)'"
      ]
     },
     "metadata": {},
     "execution_count": 3
    }
   ],
   "source": [
    "'''Field(s)      Meaning\n",
    "   1          Date in the form \"yyyymmdd\"\n",
    "   2          Number of game:\n",
    "                     \"0\" - a single game\n",
    "                     \"1\" - the first game of a double header including separate admission doubleheaders\n",
    "                     \"2\" - the second game of a double header including separate admission doubleheaders\n",
    "   3          Day of week(\"Sun\",\"Mon\",\"Tue\",\"Wed\",\"Thu\",\"Fri\",\"Sat\")\n",
    "   4-5        Visiting team and league\n",
    "   6          Season game number for visiting team\n",
    "   7-8        Home team and league\n",
    "   9          Season game number for home team\n",
    "   10         Day (D), Night (N), Afternoon (A), Evening (E for twinight)\n",
    "   11         Postponement/cancellation indicator (more detail below)\n",
    "   12         Date of makeup if played in the form \"yyyymmdd\" (more detail below)'''"
   ]
  },
  {
   "cell_type": "code",
   "execution_count": 4,
   "metadata": {},
   "outputs": [],
   "source": [
    "colnames = ['Date', 'Doubleheader', 'DayOfWeek', 'VisitingTeam', 'LeagueVisit', 'SeasonGameVisit', 'HomeTeam', 'LeagueHome', 'SeasonGameHome', 'Time', 'Postponement', 'MakeupDate']\n",
    "mlb_df = pd.read_csv('data/2019SKED.txt', names = colnames, na_values = '')\n",
    "mlb_df = mlb_df.where(pd.notnull(mlb_df), None)\n",
    "#20190401\t\n",
    "mlb_df['Date'] = pd.to_datetime(mlb_df['Date'], format = '%Y%m%d')"
   ]
  },
  {
   "cell_type": "code",
   "execution_count": 5,
   "metadata": {},
   "outputs": [
    {
     "output_type": "stream",
     "name": "stdout",
     "text": [
      "Number of Yankee Home Night Games: 45 \nNumber of Mets Home Night Games: 58\nNumber of Yankee Away Night Games: 53 \nNumber of Mets Away Night Games: 50\n"
     ]
    }
   ],
   "source": [
    "YanksHomeGames = mlb_df[(mlb_df['HomeTeam'] == 'NYA') & (mlb_df['Time'] == 'n') & (mlb_df['MakeupDate'].values == None)]\n",
    "YanksAwayGames = mlb_df[(mlb_df['VisitingTeam'] == 'NYA') & (mlb_df['Time'] == 'n') & (mlb_df['MakeupDate'].values == None)]\n",
    "\n",
    "MetsHomeGames = mlb_df[(mlb_df['HomeTeam'] == 'NYN') & (mlb_df['Time'] == 'n') & (mlb_df['MakeupDate'].values == None)]\n",
    "MetsAwayGames = mlb_df[(mlb_df['VisitingTeam'] == 'NYN') & (mlb_df['Time'] == 'n') & (mlb_df['MakeupDate'].values == None)]\n",
    "\n",
    "print('Number of Yankee Home Night Games:', YanksHomeGames.shape[0], '\\nNumber of Mets Home Night Games:', MetsHomeGames.shape[0])\n",
    "print('Number of Yankee Away Night Games:', YanksAwayGames.shape[0], '\\nNumber of Mets Away Night Games:', MetsAwayGames.shape[0])"
   ]
  },
  {
   "cell_type": "code",
   "execution_count": 6,
   "metadata": {},
   "outputs": [],
   "source": [
    "YanksHomeGamesTup = tuple(YanksHomeGames['Date'])\n",
    "YanksAwayGamesTup = tuple(YanksAwayGames['Date'])\n",
    "MetsHomeGamesTup = tuple(MetsHomeGames['Date'])\n",
    "MetsAwayGamesTup = tuple(MetsAwayGames['Date'])\n"
   ]
  },
  {
   "cell_type": "code",
   "execution_count": 7,
   "metadata": {},
   "outputs": [
    {
     "output_type": "execute_result",
     "data": {
      "text/plain": [
       "           Date  Doubleheader DayOfWeek VisitingTeam LeagueVisit  \\\n",
       "62   2019-04-01             0       Mon          DET          AL   \n",
       "73   2019-04-02             0       Tue          DET          AL   \n",
       "194  2019-04-12             0       Fri          CHA          AL   \n",
       "249  2019-04-16             0       Tue          BOS          AL   \n",
       "264  2019-04-17             0       Wed          BOS          AL   \n",
       "279  2019-04-18             0       Thu          KCA          AL   \n",
       "291  2019-04-19             0       Fri          KCA          AL   \n",
       "475  2019-05-03             0       Fri          MIN          AL   \n",
       "523  2019-05-06             0       Mon          SEA          AL   \n",
       "537  2019-05-07             0       Tue          SEA          AL   \n",
       "552  2019-05-08             0       Wed          SEA          AL   \n",
       "562  2019-05-09             0       Thu          SEA          AL   \n",
       "634  2019-05-15             0       Wed          BAL          AL   \n",
       "669  2019-05-17             0       Fri          TBA          AL   \n",
       "817  2019-05-28             0       Tue          SDN          NL   \n",
       "848  2019-05-31             0       Fri          BOS          AL   \n",
       "863  2019-06-01             0       Sat          BOS          AL   \n",
       "878  2019-06-02             0       Sun          BOS          AL   \n",
       "998  2019-06-11             0       Tue          NYN          NL   \n",
       "1086 2019-06-17             0       Mon          TBA          AL   \n",
       "1101 2019-06-18             0       Tue          TBA          AL   \n",
       "1122 2019-06-20             0       Thu          HOU          AL   \n",
       "1136 2019-06-21             0       Fri          HOU          AL   \n",
       "1151 2019-06-22             0       Sat          HOU          AL   \n",
       "1180 2019-06-24             0       Mon          TOR          AL   \n",
       "1194 2019-06-25             0       Tue          TOR          AL   \n",
       "1370 2019-07-12             0       Fri          TOR          AL   \n",
       "1410 2019-07-15             0       Mon          TBA          AL   \n",
       "1424 2019-07-16             0       Tue          TBA          AL   \n",
       "1451 2019-07-18             0       Thu          TBA          AL   \n",
       "1457 2019-07-19             0       Fri          COL          NL   \n",
       "1601 2019-07-30             0       Tue          ARI          NL   \n",
       "1641 2019-08-02             0       Fri          BOS          AL   \n",
       "1669 2019-08-04             0       Sun          BOS          AL   \n",
       "1779 2019-08-12             0       Mon          BAL          AL   \n",
       "1787 2019-08-13             0       Tue          BAL          AL   \n",
       "1818 2019-08-15             0       Thu          CLE          AL   \n",
       "1829 2019-08-16             0       Fri          CLE          AL   \n",
       "2021 2019-08-30             0       Fri          OAK          AL   \n",
       "2080 2019-09-03             0       Tue          TEX          AL   \n",
       "2093 2019-09-04             0       Wed          TEX          AL   \n",
       "2255 2019-09-17             0       Tue          ANA          AL   \n",
       "2270 2019-09-18             0       Wed          ANA          AL   \n",
       "2285 2019-09-19             0       Thu          ANA          AL   \n",
       "2307 2019-09-20             0       Fri          TOR          AL   \n",
       "\n",
       "      SeasonGameVisit HomeTeam LeagueHome  SeasonGameHome Time Postponement  \\\n",
       "62                  5      NYA         AL               4    n         None   \n",
       "73                  6      NYA         AL               5    n         None   \n",
       "194                12      NYA         AL              13    n         None   \n",
       "249                18      NYA         AL              16    n         None   \n",
       "264                19      NYA         AL              17    n         None   \n",
       "279                19      NYA         AL              18    n         None   \n",
       "291                20      NYA         AL              19    n         None   \n",
       "475                31      NYA         AL              31    n         None   \n",
       "523                37      NYA         AL              34    n         None   \n",
       "537                38      NYA         AL              35    n         None   \n",
       "552                39      NYA         AL              36    n         None   \n",
       "562                40      NYA         AL              37    n         None   \n",
       "634                44      NYA         AL              43    n         None   \n",
       "669                44      NYA         AL              44    n         None   \n",
       "817                55      NYA         AL              55    n         None   \n",
       "848                59      NYA         AL              58    n         None   \n",
       "863                60      NYA         AL              59    n         None   \n",
       "878                61      NYA         AL              60    n         None   \n",
       "998                68      NYA         AL              68    n         None   \n",
       "1086               73      NYA         AL              73    n         None   \n",
       "1101               74      NYA         AL              74    n         None   \n",
       "1122               76      NYA         AL              76    n         None   \n",
       "1136               77      NYA         AL              77    n         None   \n",
       "1151               78      NYA         AL              78    n         None   \n",
       "1180               79      NYA         AL              80    n         None   \n",
       "1194               80      NYA         AL              81    n         None   \n",
       "1370               92      NYA         AL              91    n         None   \n",
       "1410               96      NYA         AL              94    n         None   \n",
       "1424               97      NYA         AL              95    n         None   \n",
       "1451               99      NYA         AL              97    n         None   \n",
       "1457               98      NYA         AL              98    n         None   \n",
       "1601              108      NYA         AL             108    n         None   \n",
       "1641              112      NYA         AL             110    n         None   \n",
       "1669              114      NYA         AL             112    n         None   \n",
       "1779              119      NYA         AL             120    n         None   \n",
       "1787              120      NYA         AL             121    n         None   \n",
       "1818              122      NYA         AL             123    n         None   \n",
       "1829              123      NYA         AL             124    n         None   \n",
       "2021              135      NYA         AL             136    n         None   \n",
       "2080              140      NYA         AL             140    n         None   \n",
       "2093              141      NYA         AL             141    n         None   \n",
       "2255              151      NYA         AL             152    n         None   \n",
       "2270              152      NYA         AL             153    n         None   \n",
       "2285              153      NYA         AL             154    n         None   \n",
       "2307              154      NYA         AL             155    n         None   \n",
       "\n",
       "     MakeupDate  \n",
       "62         None  \n",
       "73         None  \n",
       "194        None  \n",
       "249        None  \n",
       "264        None  \n",
       "279        None  \n",
       "291        None  \n",
       "475        None  \n",
       "523        None  \n",
       "537        None  \n",
       "552        None  \n",
       "562        None  \n",
       "634        None  \n",
       "669        None  \n",
       "817        None  \n",
       "848        None  \n",
       "863        None  \n",
       "878        None  \n",
       "998        None  \n",
       "1086       None  \n",
       "1101       None  \n",
       "1122       None  \n",
       "1136       None  \n",
       "1151       None  \n",
       "1180       None  \n",
       "1194       None  \n",
       "1370       None  \n",
       "1410       None  \n",
       "1424       None  \n",
       "1451       None  \n",
       "1457       None  \n",
       "1601       None  \n",
       "1641       None  \n",
       "1669       None  \n",
       "1779       None  \n",
       "1787       None  \n",
       "1818       None  \n",
       "1829       None  \n",
       "2021       None  \n",
       "2080       None  \n",
       "2093       None  \n",
       "2255       None  \n",
       "2270       None  \n",
       "2285       None  \n",
       "2307       None  "
      ],
      "text/html": "<div>\n<style scoped>\n    .dataframe tbody tr th:only-of-type {\n        vertical-align: middle;\n    }\n\n    .dataframe tbody tr th {\n        vertical-align: top;\n    }\n\n    .dataframe thead th {\n        text-align: right;\n    }\n</style>\n<table border=\"1\" class=\"dataframe\">\n  <thead>\n    <tr style=\"text-align: right;\">\n      <th></th>\n      <th>Date</th>\n      <th>Doubleheader</th>\n      <th>DayOfWeek</th>\n      <th>VisitingTeam</th>\n      <th>LeagueVisit</th>\n      <th>SeasonGameVisit</th>\n      <th>HomeTeam</th>\n      <th>LeagueHome</th>\n      <th>SeasonGameHome</th>\n      <th>Time</th>\n      <th>Postponement</th>\n      <th>MakeupDate</th>\n    </tr>\n  </thead>\n  <tbody>\n    <tr>\n      <th>62</th>\n      <td>2019-04-01</td>\n      <td>0</td>\n      <td>Mon</td>\n      <td>DET</td>\n      <td>AL</td>\n      <td>5</td>\n      <td>NYA</td>\n      <td>AL</td>\n      <td>4</td>\n      <td>n</td>\n      <td>None</td>\n      <td>None</td>\n    </tr>\n    <tr>\n      <th>73</th>\n      <td>2019-04-02</td>\n      <td>0</td>\n      <td>Tue</td>\n      <td>DET</td>\n      <td>AL</td>\n      <td>6</td>\n      <td>NYA</td>\n      <td>AL</td>\n      <td>5</td>\n      <td>n</td>\n      <td>None</td>\n      <td>None</td>\n    </tr>\n    <tr>\n      <th>194</th>\n      <td>2019-04-12</td>\n      <td>0</td>\n      <td>Fri</td>\n      <td>CHA</td>\n      <td>AL</td>\n      <td>12</td>\n      <td>NYA</td>\n      <td>AL</td>\n      <td>13</td>\n      <td>n</td>\n      <td>None</td>\n      <td>None</td>\n    </tr>\n    <tr>\n      <th>249</th>\n      <td>2019-04-16</td>\n      <td>0</td>\n      <td>Tue</td>\n      <td>BOS</td>\n      <td>AL</td>\n      <td>18</td>\n      <td>NYA</td>\n      <td>AL</td>\n      <td>16</td>\n      <td>n</td>\n      <td>None</td>\n      <td>None</td>\n    </tr>\n    <tr>\n      <th>264</th>\n      <td>2019-04-17</td>\n      <td>0</td>\n      <td>Wed</td>\n      <td>BOS</td>\n      <td>AL</td>\n      <td>19</td>\n      <td>NYA</td>\n      <td>AL</td>\n      <td>17</td>\n      <td>n</td>\n      <td>None</td>\n      <td>None</td>\n    </tr>\n    <tr>\n      <th>279</th>\n      <td>2019-04-18</td>\n      <td>0</td>\n      <td>Thu</td>\n      <td>KCA</td>\n      <td>AL</td>\n      <td>19</td>\n      <td>NYA</td>\n      <td>AL</td>\n      <td>18</td>\n      <td>n</td>\n      <td>None</td>\n      <td>None</td>\n    </tr>\n    <tr>\n      <th>291</th>\n      <td>2019-04-19</td>\n      <td>0</td>\n      <td>Fri</td>\n      <td>KCA</td>\n      <td>AL</td>\n      <td>20</td>\n      <td>NYA</td>\n      <td>AL</td>\n      <td>19</td>\n      <td>n</td>\n      <td>None</td>\n      <td>None</td>\n    </tr>\n    <tr>\n      <th>475</th>\n      <td>2019-05-03</td>\n      <td>0</td>\n      <td>Fri</td>\n      <td>MIN</td>\n      <td>AL</td>\n      <td>31</td>\n      <td>NYA</td>\n      <td>AL</td>\n      <td>31</td>\n      <td>n</td>\n      <td>None</td>\n      <td>None</td>\n    </tr>\n    <tr>\n      <th>523</th>\n      <td>2019-05-06</td>\n      <td>0</td>\n      <td>Mon</td>\n      <td>SEA</td>\n      <td>AL</td>\n      <td>37</td>\n      <td>NYA</td>\n      <td>AL</td>\n      <td>34</td>\n      <td>n</td>\n      <td>None</td>\n      <td>None</td>\n    </tr>\n    <tr>\n      <th>537</th>\n      <td>2019-05-07</td>\n      <td>0</td>\n      <td>Tue</td>\n      <td>SEA</td>\n      <td>AL</td>\n      <td>38</td>\n      <td>NYA</td>\n      <td>AL</td>\n      <td>35</td>\n      <td>n</td>\n      <td>None</td>\n      <td>None</td>\n    </tr>\n    <tr>\n      <th>552</th>\n      <td>2019-05-08</td>\n      <td>0</td>\n      <td>Wed</td>\n      <td>SEA</td>\n      <td>AL</td>\n      <td>39</td>\n      <td>NYA</td>\n      <td>AL</td>\n      <td>36</td>\n      <td>n</td>\n      <td>None</td>\n      <td>None</td>\n    </tr>\n    <tr>\n      <th>562</th>\n      <td>2019-05-09</td>\n      <td>0</td>\n      <td>Thu</td>\n      <td>SEA</td>\n      <td>AL</td>\n      <td>40</td>\n      <td>NYA</td>\n      <td>AL</td>\n      <td>37</td>\n      <td>n</td>\n      <td>None</td>\n      <td>None</td>\n    </tr>\n    <tr>\n      <th>634</th>\n      <td>2019-05-15</td>\n      <td>0</td>\n      <td>Wed</td>\n      <td>BAL</td>\n      <td>AL</td>\n      <td>44</td>\n      <td>NYA</td>\n      <td>AL</td>\n      <td>43</td>\n      <td>n</td>\n      <td>None</td>\n      <td>None</td>\n    </tr>\n    <tr>\n      <th>669</th>\n      <td>2019-05-17</td>\n      <td>0</td>\n      <td>Fri</td>\n      <td>TBA</td>\n      <td>AL</td>\n      <td>44</td>\n      <td>NYA</td>\n      <td>AL</td>\n      <td>44</td>\n      <td>n</td>\n      <td>None</td>\n      <td>None</td>\n    </tr>\n    <tr>\n      <th>817</th>\n      <td>2019-05-28</td>\n      <td>0</td>\n      <td>Tue</td>\n      <td>SDN</td>\n      <td>NL</td>\n      <td>55</td>\n      <td>NYA</td>\n      <td>AL</td>\n      <td>55</td>\n      <td>n</td>\n      <td>None</td>\n      <td>None</td>\n    </tr>\n    <tr>\n      <th>848</th>\n      <td>2019-05-31</td>\n      <td>0</td>\n      <td>Fri</td>\n      <td>BOS</td>\n      <td>AL</td>\n      <td>59</td>\n      <td>NYA</td>\n      <td>AL</td>\n      <td>58</td>\n      <td>n</td>\n      <td>None</td>\n      <td>None</td>\n    </tr>\n    <tr>\n      <th>863</th>\n      <td>2019-06-01</td>\n      <td>0</td>\n      <td>Sat</td>\n      <td>BOS</td>\n      <td>AL</td>\n      <td>60</td>\n      <td>NYA</td>\n      <td>AL</td>\n      <td>59</td>\n      <td>n</td>\n      <td>None</td>\n      <td>None</td>\n    </tr>\n    <tr>\n      <th>878</th>\n      <td>2019-06-02</td>\n      <td>0</td>\n      <td>Sun</td>\n      <td>BOS</td>\n      <td>AL</td>\n      <td>61</td>\n      <td>NYA</td>\n      <td>AL</td>\n      <td>60</td>\n      <td>n</td>\n      <td>None</td>\n      <td>None</td>\n    </tr>\n    <tr>\n      <th>998</th>\n      <td>2019-06-11</td>\n      <td>0</td>\n      <td>Tue</td>\n      <td>NYN</td>\n      <td>NL</td>\n      <td>68</td>\n      <td>NYA</td>\n      <td>AL</td>\n      <td>68</td>\n      <td>n</td>\n      <td>None</td>\n      <td>None</td>\n    </tr>\n    <tr>\n      <th>1086</th>\n      <td>2019-06-17</td>\n      <td>0</td>\n      <td>Mon</td>\n      <td>TBA</td>\n      <td>AL</td>\n      <td>73</td>\n      <td>NYA</td>\n      <td>AL</td>\n      <td>73</td>\n      <td>n</td>\n      <td>None</td>\n      <td>None</td>\n    </tr>\n    <tr>\n      <th>1101</th>\n      <td>2019-06-18</td>\n      <td>0</td>\n      <td>Tue</td>\n      <td>TBA</td>\n      <td>AL</td>\n      <td>74</td>\n      <td>NYA</td>\n      <td>AL</td>\n      <td>74</td>\n      <td>n</td>\n      <td>None</td>\n      <td>None</td>\n    </tr>\n    <tr>\n      <th>1122</th>\n      <td>2019-06-20</td>\n      <td>0</td>\n      <td>Thu</td>\n      <td>HOU</td>\n      <td>AL</td>\n      <td>76</td>\n      <td>NYA</td>\n      <td>AL</td>\n      <td>76</td>\n      <td>n</td>\n      <td>None</td>\n      <td>None</td>\n    </tr>\n    <tr>\n      <th>1136</th>\n      <td>2019-06-21</td>\n      <td>0</td>\n      <td>Fri</td>\n      <td>HOU</td>\n      <td>AL</td>\n      <td>77</td>\n      <td>NYA</td>\n      <td>AL</td>\n      <td>77</td>\n      <td>n</td>\n      <td>None</td>\n      <td>None</td>\n    </tr>\n    <tr>\n      <th>1151</th>\n      <td>2019-06-22</td>\n      <td>0</td>\n      <td>Sat</td>\n      <td>HOU</td>\n      <td>AL</td>\n      <td>78</td>\n      <td>NYA</td>\n      <td>AL</td>\n      <td>78</td>\n      <td>n</td>\n      <td>None</td>\n      <td>None</td>\n    </tr>\n    <tr>\n      <th>1180</th>\n      <td>2019-06-24</td>\n      <td>0</td>\n      <td>Mon</td>\n      <td>TOR</td>\n      <td>AL</td>\n      <td>79</td>\n      <td>NYA</td>\n      <td>AL</td>\n      <td>80</td>\n      <td>n</td>\n      <td>None</td>\n      <td>None</td>\n    </tr>\n    <tr>\n      <th>1194</th>\n      <td>2019-06-25</td>\n      <td>0</td>\n      <td>Tue</td>\n      <td>TOR</td>\n      <td>AL</td>\n      <td>80</td>\n      <td>NYA</td>\n      <td>AL</td>\n      <td>81</td>\n      <td>n</td>\n      <td>None</td>\n      <td>None</td>\n    </tr>\n    <tr>\n      <th>1370</th>\n      <td>2019-07-12</td>\n      <td>0</td>\n      <td>Fri</td>\n      <td>TOR</td>\n      <td>AL</td>\n      <td>92</td>\n      <td>NYA</td>\n      <td>AL</td>\n      <td>91</td>\n      <td>n</td>\n      <td>None</td>\n      <td>None</td>\n    </tr>\n    <tr>\n      <th>1410</th>\n      <td>2019-07-15</td>\n      <td>0</td>\n      <td>Mon</td>\n      <td>TBA</td>\n      <td>AL</td>\n      <td>96</td>\n      <td>NYA</td>\n      <td>AL</td>\n      <td>94</td>\n      <td>n</td>\n      <td>None</td>\n      <td>None</td>\n    </tr>\n    <tr>\n      <th>1424</th>\n      <td>2019-07-16</td>\n      <td>0</td>\n      <td>Tue</td>\n      <td>TBA</td>\n      <td>AL</td>\n      <td>97</td>\n      <td>NYA</td>\n      <td>AL</td>\n      <td>95</td>\n      <td>n</td>\n      <td>None</td>\n      <td>None</td>\n    </tr>\n    <tr>\n      <th>1451</th>\n      <td>2019-07-18</td>\n      <td>0</td>\n      <td>Thu</td>\n      <td>TBA</td>\n      <td>AL</td>\n      <td>99</td>\n      <td>NYA</td>\n      <td>AL</td>\n      <td>97</td>\n      <td>n</td>\n      <td>None</td>\n      <td>None</td>\n    </tr>\n    <tr>\n      <th>1457</th>\n      <td>2019-07-19</td>\n      <td>0</td>\n      <td>Fri</td>\n      <td>COL</td>\n      <td>NL</td>\n      <td>98</td>\n      <td>NYA</td>\n      <td>AL</td>\n      <td>98</td>\n      <td>n</td>\n      <td>None</td>\n      <td>None</td>\n    </tr>\n    <tr>\n      <th>1601</th>\n      <td>2019-07-30</td>\n      <td>0</td>\n      <td>Tue</td>\n      <td>ARI</td>\n      <td>NL</td>\n      <td>108</td>\n      <td>NYA</td>\n      <td>AL</td>\n      <td>108</td>\n      <td>n</td>\n      <td>None</td>\n      <td>None</td>\n    </tr>\n    <tr>\n      <th>1641</th>\n      <td>2019-08-02</td>\n      <td>0</td>\n      <td>Fri</td>\n      <td>BOS</td>\n      <td>AL</td>\n      <td>112</td>\n      <td>NYA</td>\n      <td>AL</td>\n      <td>110</td>\n      <td>n</td>\n      <td>None</td>\n      <td>None</td>\n    </tr>\n    <tr>\n      <th>1669</th>\n      <td>2019-08-04</td>\n      <td>0</td>\n      <td>Sun</td>\n      <td>BOS</td>\n      <td>AL</td>\n      <td>114</td>\n      <td>NYA</td>\n      <td>AL</td>\n      <td>112</td>\n      <td>n</td>\n      <td>None</td>\n      <td>None</td>\n    </tr>\n    <tr>\n      <th>1779</th>\n      <td>2019-08-12</td>\n      <td>0</td>\n      <td>Mon</td>\n      <td>BAL</td>\n      <td>AL</td>\n      <td>119</td>\n      <td>NYA</td>\n      <td>AL</td>\n      <td>120</td>\n      <td>n</td>\n      <td>None</td>\n      <td>None</td>\n    </tr>\n    <tr>\n      <th>1787</th>\n      <td>2019-08-13</td>\n      <td>0</td>\n      <td>Tue</td>\n      <td>BAL</td>\n      <td>AL</td>\n      <td>120</td>\n      <td>NYA</td>\n      <td>AL</td>\n      <td>121</td>\n      <td>n</td>\n      <td>None</td>\n      <td>None</td>\n    </tr>\n    <tr>\n      <th>1818</th>\n      <td>2019-08-15</td>\n      <td>0</td>\n      <td>Thu</td>\n      <td>CLE</td>\n      <td>AL</td>\n      <td>122</td>\n      <td>NYA</td>\n      <td>AL</td>\n      <td>123</td>\n      <td>n</td>\n      <td>None</td>\n      <td>None</td>\n    </tr>\n    <tr>\n      <th>1829</th>\n      <td>2019-08-16</td>\n      <td>0</td>\n      <td>Fri</td>\n      <td>CLE</td>\n      <td>AL</td>\n      <td>123</td>\n      <td>NYA</td>\n      <td>AL</td>\n      <td>124</td>\n      <td>n</td>\n      <td>None</td>\n      <td>None</td>\n    </tr>\n    <tr>\n      <th>2021</th>\n      <td>2019-08-30</td>\n      <td>0</td>\n      <td>Fri</td>\n      <td>OAK</td>\n      <td>AL</td>\n      <td>135</td>\n      <td>NYA</td>\n      <td>AL</td>\n      <td>136</td>\n      <td>n</td>\n      <td>None</td>\n      <td>None</td>\n    </tr>\n    <tr>\n      <th>2080</th>\n      <td>2019-09-03</td>\n      <td>0</td>\n      <td>Tue</td>\n      <td>TEX</td>\n      <td>AL</td>\n      <td>140</td>\n      <td>NYA</td>\n      <td>AL</td>\n      <td>140</td>\n      <td>n</td>\n      <td>None</td>\n      <td>None</td>\n    </tr>\n    <tr>\n      <th>2093</th>\n      <td>2019-09-04</td>\n      <td>0</td>\n      <td>Wed</td>\n      <td>TEX</td>\n      <td>AL</td>\n      <td>141</td>\n      <td>NYA</td>\n      <td>AL</td>\n      <td>141</td>\n      <td>n</td>\n      <td>None</td>\n      <td>None</td>\n    </tr>\n    <tr>\n      <th>2255</th>\n      <td>2019-09-17</td>\n      <td>0</td>\n      <td>Tue</td>\n      <td>ANA</td>\n      <td>AL</td>\n      <td>151</td>\n      <td>NYA</td>\n      <td>AL</td>\n      <td>152</td>\n      <td>n</td>\n      <td>None</td>\n      <td>None</td>\n    </tr>\n    <tr>\n      <th>2270</th>\n      <td>2019-09-18</td>\n      <td>0</td>\n      <td>Wed</td>\n      <td>ANA</td>\n      <td>AL</td>\n      <td>152</td>\n      <td>NYA</td>\n      <td>AL</td>\n      <td>153</td>\n      <td>n</td>\n      <td>None</td>\n      <td>None</td>\n    </tr>\n    <tr>\n      <th>2285</th>\n      <td>2019-09-19</td>\n      <td>0</td>\n      <td>Thu</td>\n      <td>ANA</td>\n      <td>AL</td>\n      <td>153</td>\n      <td>NYA</td>\n      <td>AL</td>\n      <td>154</td>\n      <td>n</td>\n      <td>None</td>\n      <td>None</td>\n    </tr>\n    <tr>\n      <th>2307</th>\n      <td>2019-09-20</td>\n      <td>0</td>\n      <td>Fri</td>\n      <td>TOR</td>\n      <td>AL</td>\n      <td>154</td>\n      <td>NYA</td>\n      <td>AL</td>\n      <td>155</td>\n      <td>n</td>\n      <td>None</td>\n      <td>None</td>\n    </tr>\n  </tbody>\n</table>\n</div>"
     },
     "metadata": {},
     "execution_count": 7
    }
   ],
   "source": [
    "YanksHomeGames"
   ]
  },
  {
   "cell_type": "code",
   "execution_count": 22,
   "metadata": {},
   "outputs": [
    {
     "output_type": "execute_result",
     "data": {
      "text/plain": [
       "             Date_Time   G Home/Away\n",
       "2  2019-10-26 19:30:00   3       NaN\n",
       "3  2019-10-28 19:00:00   4       NaN\n",
       "6  2019-11-03 18:00:00   7       NaN\n",
       "9  2019-11-10 19:30:00  10       NaN\n",
       "11 2019-11-14 20:00:00  12       NaN\n",
       "12 2019-11-16 19:30:00  13       NaN\n",
       "13 2019-11-18 19:00:00  14       NaN\n",
       "15 2019-11-23 19:30:00  16       NaN\n",
       "16 2019-11-24 18:00:00  17       NaN\n",
       "18 2019-11-29 19:30:00  19       NaN\n",
       "19 2019-12-01 15:30:00  20       NaN\n",
       "21 2019-12-05 19:30:00  22       NaN\n",
       "22 2019-12-07 19:30:00  23       NaN\n",
       "27 2019-12-17 19:30:00  28       NaN\n",
       "29 2019-12-21 19:30:00  30       NaN\n",
       "30 2019-12-23 19:00:00  31       NaN\n",
       "33 2020-01-01 19:30:00  34       NaN\n",
       "38 2020-01-10 19:15:00  39       NaN\n",
       "39 2020-01-12 15:30:00  40       NaN\n",
       "41 2020-01-16 19:30:00  42       NaN\n",
       "42 2020-01-18 19:30:00  43       NaN\n",
       "44 2020-01-22 19:30:00  45       NaN\n",
       "45 2020-01-24 19:30:00  46       NaN\n",
       "46 2020-01-26 18:00:00  47       NaN\n",
       "48 2020-01-29 19:30:00  49       NaN\n",
       "51 2020-02-06 19:30:00  52       NaN\n",
       "54 2020-02-12 19:30:00  55       NaN\n",
       "55 2020-02-21 19:30:00  56       NaN\n",
       "59 2020-02-29 17:00:00  60       NaN\n",
       "60 2020-03-02 19:00:00  61       NaN\n",
       "61 2020-03-04 19:30:00  62       NaN\n",
       "62 2020-03-06 19:30:00  63       NaN\n",
       "63 2020-03-08 19:30:00  64       NaN"
      ],
      "text/html": "<div>\n<style scoped>\n    .dataframe tbody tr th:only-of-type {\n        vertical-align: middle;\n    }\n\n    .dataframe tbody tr th {\n        vertical-align: top;\n    }\n\n    .dataframe thead th {\n        text-align: right;\n    }\n</style>\n<table border=\"1\" class=\"dataframe\">\n  <thead>\n    <tr style=\"text-align: right;\">\n      <th></th>\n      <th>Date_Time</th>\n      <th>G</th>\n      <th>Home/Away</th>\n    </tr>\n  </thead>\n  <tbody>\n    <tr>\n      <th>2</th>\n      <td>2019-10-26 19:30:00</td>\n      <td>3</td>\n      <td>NaN</td>\n    </tr>\n    <tr>\n      <th>3</th>\n      <td>2019-10-28 19:00:00</td>\n      <td>4</td>\n      <td>NaN</td>\n    </tr>\n    <tr>\n      <th>6</th>\n      <td>2019-11-03 18:00:00</td>\n      <td>7</td>\n      <td>NaN</td>\n    </tr>\n    <tr>\n      <th>9</th>\n      <td>2019-11-10 19:30:00</td>\n      <td>10</td>\n      <td>NaN</td>\n    </tr>\n    <tr>\n      <th>11</th>\n      <td>2019-11-14 20:00:00</td>\n      <td>12</td>\n      <td>NaN</td>\n    </tr>\n    <tr>\n      <th>12</th>\n      <td>2019-11-16 19:30:00</td>\n      <td>13</td>\n      <td>NaN</td>\n    </tr>\n    <tr>\n      <th>13</th>\n      <td>2019-11-18 19:00:00</td>\n      <td>14</td>\n      <td>NaN</td>\n    </tr>\n    <tr>\n      <th>15</th>\n      <td>2019-11-23 19:30:00</td>\n      <td>16</td>\n      <td>NaN</td>\n    </tr>\n    <tr>\n      <th>16</th>\n      <td>2019-11-24 18:00:00</td>\n      <td>17</td>\n      <td>NaN</td>\n    </tr>\n    <tr>\n      <th>18</th>\n      <td>2019-11-29 19:30:00</td>\n      <td>19</td>\n      <td>NaN</td>\n    </tr>\n    <tr>\n      <th>19</th>\n      <td>2019-12-01 15:30:00</td>\n      <td>20</td>\n      <td>NaN</td>\n    </tr>\n    <tr>\n      <th>21</th>\n      <td>2019-12-05 19:30:00</td>\n      <td>22</td>\n      <td>NaN</td>\n    </tr>\n    <tr>\n      <th>22</th>\n      <td>2019-12-07 19:30:00</td>\n      <td>23</td>\n      <td>NaN</td>\n    </tr>\n    <tr>\n      <th>27</th>\n      <td>2019-12-17 19:30:00</td>\n      <td>28</td>\n      <td>NaN</td>\n    </tr>\n    <tr>\n      <th>29</th>\n      <td>2019-12-21 19:30:00</td>\n      <td>30</td>\n      <td>NaN</td>\n    </tr>\n    <tr>\n      <th>30</th>\n      <td>2019-12-23 19:00:00</td>\n      <td>31</td>\n      <td>NaN</td>\n    </tr>\n    <tr>\n      <th>33</th>\n      <td>2020-01-01 19:30:00</td>\n      <td>34</td>\n      <td>NaN</td>\n    </tr>\n    <tr>\n      <th>38</th>\n      <td>2020-01-10 19:15:00</td>\n      <td>39</td>\n      <td>NaN</td>\n    </tr>\n    <tr>\n      <th>39</th>\n      <td>2020-01-12 15:30:00</td>\n      <td>40</td>\n      <td>NaN</td>\n    </tr>\n    <tr>\n      <th>41</th>\n      <td>2020-01-16 19:30:00</td>\n      <td>42</td>\n      <td>NaN</td>\n    </tr>\n    <tr>\n      <th>42</th>\n      <td>2020-01-18 19:30:00</td>\n      <td>43</td>\n      <td>NaN</td>\n    </tr>\n    <tr>\n      <th>44</th>\n      <td>2020-01-22 19:30:00</td>\n      <td>45</td>\n      <td>NaN</td>\n    </tr>\n    <tr>\n      <th>45</th>\n      <td>2020-01-24 19:30:00</td>\n      <td>46</td>\n      <td>NaN</td>\n    </tr>\n    <tr>\n      <th>46</th>\n      <td>2020-01-26 18:00:00</td>\n      <td>47</td>\n      <td>NaN</td>\n    </tr>\n    <tr>\n      <th>48</th>\n      <td>2020-01-29 19:30:00</td>\n      <td>49</td>\n      <td>NaN</td>\n    </tr>\n    <tr>\n      <th>51</th>\n      <td>2020-02-06 19:30:00</td>\n      <td>52</td>\n      <td>NaN</td>\n    </tr>\n    <tr>\n      <th>54</th>\n      <td>2020-02-12 19:30:00</td>\n      <td>55</td>\n      <td>NaN</td>\n    </tr>\n    <tr>\n      <th>55</th>\n      <td>2020-02-21 19:30:00</td>\n      <td>56</td>\n      <td>NaN</td>\n    </tr>\n    <tr>\n      <th>59</th>\n      <td>2020-02-29 17:00:00</td>\n      <td>60</td>\n      <td>NaN</td>\n    </tr>\n    <tr>\n      <th>60</th>\n      <td>2020-03-02 19:00:00</td>\n      <td>61</td>\n      <td>NaN</td>\n    </tr>\n    <tr>\n      <th>61</th>\n      <td>2020-03-04 19:30:00</td>\n      <td>62</td>\n      <td>NaN</td>\n    </tr>\n    <tr>\n      <th>62</th>\n      <td>2020-03-06 19:30:00</td>\n      <td>63</td>\n      <td>NaN</td>\n    </tr>\n    <tr>\n      <th>63</th>\n      <td>2020-03-08 19:30:00</td>\n      <td>64</td>\n      <td>NaN</td>\n    </tr>\n  </tbody>\n</table>\n</div>"
     },
     "metadata": {},
     "execution_count": 22
    }
   ],
   "source": [
    "knicks = pd.read_csv('data/Knicks2019.csv', parse_dates = [['Date', 'Time']])\n",
    "knickshome = knicks[knicks['Home/Away'] != '@']\n",
    "knicksaway= knicks[knicks['Home/Away'] == '@']"
   ]
  },
  {
   "cell_type": "code",
   "execution_count": 19,
   "metadata": {},
   "outputs": [
    {
     "output_type": "error",
     "ename": "ValueError",
     "evalue": "to assemble mappings requires at least that [year, month, day] be specified: [day,month,year] is missing",
     "traceback": [
      "\u001b[1;31m---------------------------------------------------------------------------\u001b[0m",
      "\u001b[1;31mValueError\u001b[0m                                Traceback (most recent call last)",
      "\u001b[1;32m<ipython-input-19-600c5d01bdf6>\u001b[0m in \u001b[0;36m<module>\u001b[1;34m\u001b[0m\n\u001b[1;32m----> 1\u001b[1;33m \u001b[0mknicks\u001b[0m\u001b[1;33m[\u001b[0m\u001b[1;34m'GameTime'\u001b[0m\u001b[1;33m]\u001b[0m \u001b[1;33m=\u001b[0m \u001b[0mpd\u001b[0m\u001b[1;33m.\u001b[0m\u001b[0mto_datetime\u001b[0m\u001b[1;33m(\u001b[0m\u001b[0mknicks\u001b[0m\u001b[1;33m[\u001b[0m\u001b[1;33m[\u001b[0m\u001b[1;34m'Date'\u001b[0m\u001b[1;33m,\u001b[0m \u001b[1;34m'Time'\u001b[0m\u001b[1;33m]\u001b[0m\u001b[1;33m]\u001b[0m\u001b[1;33m,\u001b[0m \u001b[0mformat\u001b[0m \u001b[1;33m=\u001b[0m \u001b[1;34m'%a %b %d %Y %I %p'\u001b[0m\u001b[1;33m)\u001b[0m\u001b[1;33m\u001b[0m\u001b[1;33m\u001b[0m\u001b[0m\n\u001b[0m\u001b[0;32m      2\u001b[0m \u001b[0mknickshome\u001b[0m \u001b[1;33m=\u001b[0m \u001b[0mknicks\u001b[0m\u001b[1;33m[\u001b[0m\u001b[0mknicks\u001b[0m\u001b[1;33m[\u001b[0m\u001b[1;34m'Home/Away'\u001b[0m\u001b[1;33m]\u001b[0m \u001b[1;33m!=\u001b[0m \u001b[1;34m'@'\u001b[0m\u001b[1;33m]\u001b[0m\u001b[1;33m\u001b[0m\u001b[1;33m\u001b[0m\u001b[0m\n\u001b[0;32m      3\u001b[0m \u001b[0mtype\u001b[0m\u001b[1;33m(\u001b[0m\u001b[0mknickshome\u001b[0m\u001b[1;33m[\u001b[0m\u001b[1;34m'Date'\u001b[0m\u001b[1;33m]\u001b[0m\u001b[1;33m[\u001b[0m\u001b[1;36m0\u001b[0m\u001b[1;33m]\u001b[0m\u001b[1;33m)\u001b[0m\u001b[1;33m\u001b[0m\u001b[1;33m\u001b[0m\u001b[0m\n",
      "\u001b[1;32m~\\Anaconda3\\envs\\ISYE6501\\lib\\site-packages\\pandas\\core\\tools\\datetimes.py\u001b[0m in \u001b[0;36mto_datetime\u001b[1;34m(arg, errors, dayfirst, yearfirst, utc, format, exact, unit, infer_datetime_format, origin, cache)\u001b[0m\n\u001b[0;32m    729\u001b[0m             \u001b[0mresult\u001b[0m \u001b[1;33m=\u001b[0m \u001b[0marg\u001b[0m\u001b[1;33m.\u001b[0m\u001b[0m_constructor\u001b[0m\u001b[1;33m(\u001b[0m\u001b[0mvalues\u001b[0m\u001b[1;33m,\u001b[0m \u001b[0mindex\u001b[0m\u001b[1;33m=\u001b[0m\u001b[0marg\u001b[0m\u001b[1;33m.\u001b[0m\u001b[0mindex\u001b[0m\u001b[1;33m,\u001b[0m \u001b[0mname\u001b[0m\u001b[1;33m=\u001b[0m\u001b[0marg\u001b[0m\u001b[1;33m.\u001b[0m\u001b[0mname\u001b[0m\u001b[1;33m)\u001b[0m\u001b[1;33m\u001b[0m\u001b[1;33m\u001b[0m\u001b[0m\n\u001b[0;32m    730\u001b[0m     \u001b[1;32melif\u001b[0m \u001b[0misinstance\u001b[0m\u001b[1;33m(\u001b[0m\u001b[0marg\u001b[0m\u001b[1;33m,\u001b[0m \u001b[1;33m(\u001b[0m\u001b[0mABCDataFrame\u001b[0m\u001b[1;33m,\u001b[0m \u001b[0mabc\u001b[0m\u001b[1;33m.\u001b[0m\u001b[0mMutableMapping\u001b[0m\u001b[1;33m)\u001b[0m\u001b[1;33m)\u001b[0m\u001b[1;33m:\u001b[0m\u001b[1;33m\u001b[0m\u001b[1;33m\u001b[0m\u001b[0m\n\u001b[1;32m--> 731\u001b[1;33m         \u001b[0mresult\u001b[0m \u001b[1;33m=\u001b[0m \u001b[0m_assemble_from_unit_mappings\u001b[0m\u001b[1;33m(\u001b[0m\u001b[0marg\u001b[0m\u001b[1;33m,\u001b[0m \u001b[0merrors\u001b[0m\u001b[1;33m,\u001b[0m \u001b[0mtz\u001b[0m\u001b[1;33m)\u001b[0m\u001b[1;33m\u001b[0m\u001b[1;33m\u001b[0m\u001b[0m\n\u001b[0m\u001b[0;32m    732\u001b[0m     \u001b[1;32melif\u001b[0m \u001b[0misinstance\u001b[0m\u001b[1;33m(\u001b[0m\u001b[0marg\u001b[0m\u001b[1;33m,\u001b[0m \u001b[0mABCIndexClass\u001b[0m\u001b[1;33m)\u001b[0m\u001b[1;33m:\u001b[0m\u001b[1;33m\u001b[0m\u001b[1;33m\u001b[0m\u001b[0m\n\u001b[0;32m    733\u001b[0m         \u001b[0mcache_array\u001b[0m \u001b[1;33m=\u001b[0m \u001b[0m_maybe_cache\u001b[0m\u001b[1;33m(\u001b[0m\u001b[0marg\u001b[0m\u001b[1;33m,\u001b[0m \u001b[0mformat\u001b[0m\u001b[1;33m,\u001b[0m \u001b[0mcache\u001b[0m\u001b[1;33m,\u001b[0m \u001b[0mconvert_listlike\u001b[0m\u001b[1;33m)\u001b[0m\u001b[1;33m\u001b[0m\u001b[1;33m\u001b[0m\u001b[0m\n",
      "\u001b[1;32m~\\Anaconda3\\envs\\ISYE6501\\lib\\site-packages\\pandas\\core\\tools\\datetimes.py\u001b[0m in \u001b[0;36m_assemble_from_unit_mappings\u001b[1;34m(arg, errors, tz)\u001b[0m\n\u001b[0;32m    830\u001b[0m         \u001b[0mrequired\u001b[0m \u001b[1;33m=\u001b[0m \u001b[1;34m\",\"\u001b[0m\u001b[1;33m.\u001b[0m\u001b[0mjoin\u001b[0m\u001b[1;33m(\u001b[0m\u001b[0mreq\u001b[0m\u001b[1;33m)\u001b[0m\u001b[1;33m\u001b[0m\u001b[1;33m\u001b[0m\u001b[0m\n\u001b[0;32m    831\u001b[0m         raise ValueError(\n\u001b[1;32m--> 832\u001b[1;33m             \u001b[1;34m\"to assemble mappings requires at least that \"\u001b[0m\u001b[1;33m\u001b[0m\u001b[1;33m\u001b[0m\u001b[0m\n\u001b[0m\u001b[0;32m    833\u001b[0m             \u001b[1;34mf\"[year, month, day] be specified: [{required}] \"\u001b[0m\u001b[1;33m\u001b[0m\u001b[1;33m\u001b[0m\u001b[0m\n\u001b[0;32m    834\u001b[0m             \u001b[1;34m\"is missing\"\u001b[0m\u001b[1;33m\u001b[0m\u001b[1;33m\u001b[0m\u001b[0m\n",
      "\u001b[1;31mValueError\u001b[0m: to assemble mappings requires at least that [year, month, day] be specified: [day,month,year] is missing"
     ]
    }
   ],
   "source": [
    "knicks['GameTime'] = pd.to_datetime(knicks[['Date', 'Time']], format = '%a %b %d %Y %I %p')\n",
    "\n",
    "type(knickshome['Date'][0])"
   ]
  },
  {
   "cell_type": "code",
   "execution_count": null,
   "metadata": {},
   "outputs": [],
   "source": []
  }
 ]
}