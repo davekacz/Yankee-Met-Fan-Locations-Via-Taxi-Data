{
 "metadata": {
  "language_info": {
   "codemirror_mode": {
    "name": "ipython",
    "version": 3
   },
   "file_extension": ".py",
   "mimetype": "text/x-python",
   "name": "python",
   "nbconvert_exporter": "python",
   "pygments_lexer": "ipython3",
   "version": 3
  },
  "orig_nbformat": 4
 },
 "nbformat": 4,
 "nbformat_minor": 2,
 "cells": [
  {
   "cell_type": "code",
   "execution_count": null,
   "metadata": {},
   "outputs": [],
   "source": [
    "import sqlalchemy as db\n",
    "\n",
    "nyc_database = db.create_engine('sqlite:///nyc_database.db')"
   ]
  },
  {
   "cell_type": "code",
   "execution_count": null,
   "metadata": {},
   "outputs": [],
   "source": [
    "# '08/14/2019 12:48:46 AM'\n",
    "\n",
    "db.__version__j, chunksize = 1, 100000\n",
    "\n",
    "fp = \"data/2019_Yellow_Taxi_Trip_Data.csv\"\n",
    "for df in pd.read_csv(fp, chunksize=chunksize, iterator=True):\n",
    "    df = df.rename(columns={c: c.replace(' ', '_') for c in df.columns})\n",
    "    df['pickup_datetime'] = pd.to_datetime([x for x in df['tpep_pickup_datetime']], format = '%m/%d/%Y %I:%M:%S %p')\n",
    "    df['dropoff_datetime'] = pd.to_datetime([x for x in df['tpep_dropoff_datetime']], format = '%m/%d/%Y %I:%M:%S %p')\n",
    "    df = df.drop(['tpep_pickup_datetime', 'tpep_dropoff_datetime', 'improvement_surcharge'], axis = 1)\n",
    "\n",
    "    df.to_sql('table_record', nyc_database, if_exists='append')\n",
    "    \n",
    "del df"
   ]
  },
  {
   "cell_type": "code",
   "execution_count": null,
   "metadata": {},
   "outputs": [],
   "source": [
    "'''VendorID,lpep_pickup_datetime,lpep_dropoff_datetime,store_and_fwd_flag,RatecodeID,PULocationID,DOLocationID,passenger_count,trip_distance,fare_amount,extra,mta_tax,tip_amount,tolls_amount,ehail_fee,improvement_surcharge,total_amount,payment_type,trip_type,congestion_surcharge'''\n",
    "\n",
    "# 12/31/2019 03:01:00 PM\n",
    "\n",
    "db.__version__j, chunksize = 1, 100000\n",
    "\n",
    "fp = \"data/2019_Green_Taxi_Trip_Data.csv\"\n",
    "for df in pd.read_csv(fp, chunksize=chunksize, iterator=True):\n",
    "    df = df.rename(columns={c: c.replace(' ', '_') for c in df.columns})\n",
    "    df['pickup_datetime'] = pd.to_datetime([x for x in df['lpep_pickup_datetime']], format = '%m/%d/%Y %I:%M:%S %p')\n",
    "    df['dropoff_datetime'] = pd.to_datetime([x for x in df['lpep_dropoff_datetime']], format = '%m/%d/%Y %I:%M:%S %p')\n",
    "    df = df.drop(['ehail_fee', 'trip_type', 'improvement_surcharge', 'lpep_pickup_datetime', 'lpep_dropoff_datetime'], axis = 1)\n",
    "    df.to_sql('table_record', nyc_database, if_exists='append')\n",
    "\n",
    "\n",
    "del df"
   ]
  }
 ]
}